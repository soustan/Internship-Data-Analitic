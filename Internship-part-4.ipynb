{
  "nbformat": 4,
  "nbformat_minor": 0,
  "metadata": {
    "colab": {
      "provenance": [],
      "collapsed_sections": [],
      "include_colab_link": true
    },
    "kernelspec": {
      "name": "python3",
      "display_name": "Python 3"
    },
    "language_info": {
      "name": "python"
    }
  },
  "cells": [
    {
      "cell_type": "markdown",
      "metadata": {
        "id": "view-in-github",
        "colab_type": "text"
      },
      "source": [
        "<a href=\"https://colab.research.google.com/github/soustan/Internship-Data-Analitic/blob/main/Internship-part-4.ipynb\" target=\"_parent\"><img src=\"https://colab.research.google.com/assets/colab-badge.svg\" alt=\"Open In Colab\"/></a>"
      ]
    },
    {
      "cell_type": "code",
      "source": [
        "from google.colab import drive\n",
        "drive.mount('/content/drive')"
      ],
      "metadata": {
        "colab": {
          "base_uri": "https://localhost:8080/"
        },
        "id": "aDpvH41Fx36L",
        "outputId": "c6fac53a-ecb0-4fe8-d4c9-679ccabd6fcc"
      },
      "execution_count": 27,
      "outputs": [
        {
          "output_type": "stream",
          "name": "stdout",
          "text": [
            "Drive already mounted at /content/drive; to attempt to forcibly remount, call drive.mount(\"/content/drive\", force_remount=True).\n"
          ]
        }
      ]
    },
    {
      "cell_type": "code",
      "source": [
        "import pandas as pd\n",
        "import numpy as np\n",
        "import re"
      ],
      "metadata": {
        "id": "i0suGyHfNYnY"
      },
      "execution_count": 28,
      "outputs": []
    },
    {
      "cell_type": "code",
      "source": [
        "#Load the region roles\n",
        "from google.colab import files\n",
        "upload = files.upload()"
      ],
      "metadata": {
        "id": "2s2GM0liNtGN"
      },
      "execution_count": null,
      "outputs": []
    },
    {
      "cell_type": "code",
      "source": [
        "reg_rol = pd.read_excel('/region_roles_26_05_22.xlsx')"
      ],
      "metadata": {
        "id": "euSfnB7ylXwY"
      },
      "execution_count": 31,
      "outputs": []
    },
    {
      "cell_type": "code",
      "source": [
        "reg_rol.head(10)"
      ],
      "metadata": {
        "id": "yJUorM7SV3kJ"
      },
      "execution_count": null,
      "outputs": []
    },
    {
      "cell_type": "code",
      "source": [
        "#reg_rol['salary'].str.split('\\n')[0]"
      ],
      "metadata": {
        "colab": {
          "base_uri": "https://localhost:8080/"
        },
        "id": "WuN4Z4Q2Z5Fq",
        "outputId": "214f161f-8f31-4221-e5c5-7b9120ead5b1"
      },
      "execution_count": null,
      "outputs": [
        {
          "output_type": "execute_result",
          "data": {
            "text/plain": [
              "nan"
            ]
          },
          "metadata": {},
          "execution_count": 12
        }
      ]
    },
    {
      "cell_type": "code",
      "source": [
        "#new_reg_rol = reg_rol['salary'].str.split(',',expand=True)\n",
        "#new_reg_rol"
      ],
      "metadata": {
        "id": "r3FFUwnamUf1"
      },
      "execution_count": null,
      "outputs": []
    },
    {
      "cell_type": "code",
      "source": [
        "print(reg_rol['salary'][1])\n",
        "print(reg_rol['salary'][1].replace(\"{\", '').replace(\"}\", '').split(',')) # превращаем из словаря в список\n",
        "print(reg_rol['salary'][1].replace(\"{\", '').replace(\"}\", '').split(',')[0][8:]) \n",
        "#в списке берем 1-эй элемент\n",
        "def salary_from(salary):\n",
        "  if pd.isna(salary):\n",
        "   clean_salary = np.nan\n",
        "  else:\n",
        "   clean_salary = salary.replace(\"{\", '').replace(\"}\", '').split(',')[0][8:]\n",
        "   if clean_salary == 'None':\n",
        "     clean_salary = np.nan\n",
        "  return clean_salary\n",
        "reg_rol['salary_from'] = reg_rol.salary.apply(salary_from)\n",
        "reg_rol['salary_from'] = pd.to_numeric(reg_rol['salary_from'])\n",
        "reg_rol['salary_from'] = reg_rol['salary_from'].astype('Int64')\n",
        "reg_rol['salary_from'].describe()\n",
        "reg_rol.info()"
      ],
      "metadata": {
        "colab": {
          "base_uri": "https://localhost:8080/"
        },
        "id": "EY49saasgt-0",
        "outputId": "1a39b5a8-0bd8-4a84-e1c4-8ebb4427851c"
      },
      "execution_count": 33,
      "outputs": [
        {
          "output_type": "stream",
          "name": "stdout",
          "text": [
            "{'from': 25000, 'to': 50000, 'currency': 'RUR', 'gross': True}\n",
            "[\"'from': 25000\", \" 'to': 50000\", \" 'currency': 'RUR'\", \" 'gross': True\"]\n",
            "25000\n",
            "<class 'pandas.core.frame.DataFrame'>\n",
            "RangeIndex: 69656 entries, 0 to 69655\n",
            "Data columns (total 35 columns):\n",
            " #   Column                    Non-Null Count  Dtype  \n",
            "---  ------                    --------------  -----  \n",
            " 0   Unnamed: 0                69656 non-null  int64  \n",
            " 1   id                        69656 non-null  int64  \n",
            " 2   premium                   69656 non-null  bool   \n",
            " 3   name                      69656 non-null  object \n",
            " 4   department                5263 non-null   object \n",
            " 5   has_test                  69656 non-null  bool   \n",
            " 6   response_letter_required  69656 non-null  bool   \n",
            " 7   area                      69656 non-null  object \n",
            " 8   salary                    37590 non-null  object \n",
            " 9   type                      69656 non-null  object \n",
            " 10  address                   40318 non-null  object \n",
            " 11  response_url              1 non-null      object \n",
            " 12  sort_point_distance       0 non-null      float64\n",
            " 13  published_at              69656 non-null  object \n",
            " 14  created_at                69656 non-null  object \n",
            " 15  archived                  69656 non-null  bool   \n",
            " 16  insider_interview         522 non-null    object \n",
            " 17  url                       69656 non-null  object \n",
            " 18  alternate_url             69656 non-null  object \n",
            " 19  relations                 69656 non-null  object \n",
            " 20  employer                  69656 non-null  object \n",
            " 21  snippet                   69656 non-null  object \n",
            " 22  contacts                  35114 non-null  object \n",
            " 23  schedule                  69656 non-null  object \n",
            " 24  working_days              69656 non-null  object \n",
            " 25  working_time_intervals    69656 non-null  object \n",
            " 26  working_time_modes        69656 non-null  object \n",
            " 27  accept_temporary          69656 non-null  bool   \n",
            " 28  description               69656 non-null  object \n",
            " 29  experience                69656 non-null  object \n",
            " 30  key_skills                69656 non-null  object \n",
            " 31  specializations           69656 non-null  object \n",
            " 32  region                    69656 non-null  object \n",
            " 33  immediate_redirect_url    1 non-null      object \n",
            " 34  salary_from               34074 non-null  Int64  \n",
            "dtypes: Int64(1), bool(5), float64(1), int64(2), object(26)\n",
            "memory usage: 16.3+ MB\n"
          ]
        }
      ]
    },
    {
      "cell_type": "code",
      "source": [
        "print(reg_rol['salary'][1])\n",
        "print(reg_rol['salary'][1].replace(\"{\", '').replace(\"}\", '').split(',')) # превращаем из словаря в список\n",
        "print(reg_rol['salary'][1].replace(\"{\", '').replace(\"}\", '').split(',')[1][8:]) \n",
        "#в списке берем 2-эй элемент\n",
        "def salary_to(salary):\n",
        "  if pd.isna(salary):\n",
        "    clean_salary = np.nan\n",
        "  else:\n",
        "      clean_salary = salary.replace(\"{\", '').replace(\"}\", '').split(',')[1][8:]\n",
        "      if clean_salary == 'None':\n",
        "        clean_salary = np.nan\n",
        "        return clean_salary\n",
        "reg_rol['salary_to'] = reg_rol.salary.apply(salary_to)\n",
        "reg_rol['salary_to'] = pd.to_numeric(reg_rol['salary_to'])\n",
        "reg_rol['salary_to'] = reg_rol['salary_to'].astype('Int64')\n",
        "reg_rol['salary_to'].describe()\n",
        "reg_rol.info()"
      ],
      "metadata": {
        "id": "TUHyFDoPIftz"
      },
      "execution_count": null,
      "outputs": []
    },
    {
      "cell_type": "code",
      "source": [
        "print(reg_rol['salary'][1])\n",
        "print(reg_rol['salary'][1].replace(\"{\", '').replace(\"}\", '').split(',')) # превращаем из словаря в список\n",
        "print(reg_rol['salary'][1].replace(\"{\", '').replace(\"}\", '').split(',')[2][8:]) \n",
        "#в списке берем 3-эй элемент\n",
        "def salary_currency(salary):\n",
        "  if pd.isna(salary):\n",
        "    clean_salary = np.nan\n",
        "  else:\n",
        "      clean_salary = salary.replace(\"{\", '').replace(\"}\", '').split(',')[2][8:]\n",
        "      if clean_salary == 'None':\n",
        "        clean_salary = np.nan\n",
        "        return clean_salary\n",
        "reg_rol['salary_currency'] = reg_rol.salary.apply(salary_currency)\n",
        "reg_rol['salary_currency'] = pd.to_numeric(reg_rol['salary_currency'])\n",
        "reg_rol['salary_currency'] = reg_rol['salary_currency'].astype('Int64')\n",
        "reg_rol['salary_currency'].describe()\n",
        "reg_rol.info()"
      ],
      "metadata": {
        "id": "fJIuZZpo2-DC",
        "outputId": "a93cf738-d403-4887-87ab-94f09323433c",
        "colab": {
          "base_uri": "https://localhost:8080/"
        }
      },
      "execution_count": 52,
      "outputs": [
        {
          "output_type": "stream",
          "name": "stdout",
          "text": [
            "{'from': 25000, 'to': 50000, 'currency': 'RUR', 'gross': True}\n",
            "[\"'from': 25000\", \" 'to': 50000\", \" 'currency': 'RUR'\", \" 'gross': True\"]\n",
            "cy': 'RUR'\n",
            "<class 'pandas.core.frame.DataFrame'>\n",
            "RangeIndex: 69656 entries, 0 to 69655\n",
            "Data columns (total 37 columns):\n",
            " #   Column                    Non-Null Count  Dtype  \n",
            "---  ------                    --------------  -----  \n",
            " 0   Unnamed: 0                69656 non-null  int64  \n",
            " 1   id                        69656 non-null  int64  \n",
            " 2   premium                   69656 non-null  bool   \n",
            " 3   name                      69656 non-null  object \n",
            " 4   department                5263 non-null   object \n",
            " 5   has_test                  69656 non-null  bool   \n",
            " 6   response_letter_required  69656 non-null  bool   \n",
            " 7   area                      69656 non-null  object \n",
            " 8   salary                    37590 non-null  object \n",
            " 9   type                      69656 non-null  object \n",
            " 10  address                   40318 non-null  object \n",
            " 11  response_url              1 non-null      object \n",
            " 12  sort_point_distance       0 non-null      float64\n",
            " 13  published_at              69656 non-null  object \n",
            " 14  created_at                69656 non-null  object \n",
            " 15  archived                  69656 non-null  bool   \n",
            " 16  insider_interview         522 non-null    object \n",
            " 17  url                       69656 non-null  object \n",
            " 18  alternate_url             69656 non-null  object \n",
            " 19  relations                 69656 non-null  object \n",
            " 20  employer                  69656 non-null  object \n",
            " 21  snippet                   69656 non-null  object \n",
            " 22  contacts                  35114 non-null  object \n",
            " 23  schedule                  69656 non-null  object \n",
            " 24  working_days              69656 non-null  object \n",
            " 25  working_time_intervals    69656 non-null  object \n",
            " 26  working_time_modes        69656 non-null  object \n",
            " 27  accept_temporary          69656 non-null  bool   \n",
            " 28  description               69656 non-null  object \n",
            " 29  experience                69656 non-null  object \n",
            " 30  key_skills                69656 non-null  object \n",
            " 31  specializations           69656 non-null  object \n",
            " 32  region                    69656 non-null  object \n",
            " 33  immediate_redirect_url    1 non-null      object \n",
            " 34  salary_from               34074 non-null  Int64  \n",
            " 35  salary_to                 0 non-null      Int64  \n",
            " 36  salary_currency           0 non-null      Int64  \n",
            "dtypes: Int64(3), bool(5), float64(1), int64(2), object(26)\n",
            "memory usage: 17.5+ MB\n"
          ]
        }
      ]
    },
    {
      "cell_type": "code",
      "source": [
        "print(reg_rol['salary'][1])\n",
        "print(reg_rol['salary'][1].replace(\"{\", '').replace(\"}\", '').split(',')) # превращаем из словаря в список\n",
        "print(reg_rol['salary'][1].replace(\"{\", '').replace(\"}\", '').split(',')[3][8:]) \n",
        "#в списке берем 4-эй элемент\n",
        "def salary_gross(salary):\n",
        "  if pd.isna(salary):\n",
        "    clean_salary = np.nan\n",
        "  else:\n",
        "      clean_salary = salary.replace(\"{\", '').replace(\"}\", '').split(',')[2][8:]\n",
        "      if clean_salary == 'None':\n",
        "        clean_salary = np.nan\n",
        "        return clean_salary\n",
        "reg_rol['salary_gross'] = reg_rol.salary.apply(salary_gross)\n",
        "reg_rol['salary_gross'] = pd.to_numeric(reg_rol['salary_gross'])\n",
        "reg_rol['salary_gross'] = reg_rol['salary_gross'].astype('Int64')\n",
        "reg_rol['salary_gross'].describe()\n",
        "reg_rol.info()"
      ],
      "metadata": {
        "id": "WoPOxsZh4mI-",
        "outputId": "c751151e-44ca-4bd7-88ea-f737995a2e62",
        "colab": {
          "base_uri": "https://localhost:8080/"
        }
      },
      "execution_count": 53,
      "outputs": [
        {
          "output_type": "stream",
          "name": "stdout",
          "text": [
            "{'from': 25000, 'to': 50000, 'currency': 'RUR', 'gross': True}\n",
            "[\"'from': 25000\", \" 'to': 50000\", \" 'currency': 'RUR'\", \" 'gross': True\"]\n",
            ": True\n",
            "<class 'pandas.core.frame.DataFrame'>\n",
            "RangeIndex: 69656 entries, 0 to 69655\n",
            "Data columns (total 38 columns):\n",
            " #   Column                    Non-Null Count  Dtype  \n",
            "---  ------                    --------------  -----  \n",
            " 0   Unnamed: 0                69656 non-null  int64  \n",
            " 1   id                        69656 non-null  int64  \n",
            " 2   premium                   69656 non-null  bool   \n",
            " 3   name                      69656 non-null  object \n",
            " 4   department                5263 non-null   object \n",
            " 5   has_test                  69656 non-null  bool   \n",
            " 6   response_letter_required  69656 non-null  bool   \n",
            " 7   area                      69656 non-null  object \n",
            " 8   salary                    37590 non-null  object \n",
            " 9   type                      69656 non-null  object \n",
            " 10  address                   40318 non-null  object \n",
            " 11  response_url              1 non-null      object \n",
            " 12  sort_point_distance       0 non-null      float64\n",
            " 13  published_at              69656 non-null  object \n",
            " 14  created_at                69656 non-null  object \n",
            " 15  archived                  69656 non-null  bool   \n",
            " 16  insider_interview         522 non-null    object \n",
            " 17  url                       69656 non-null  object \n",
            " 18  alternate_url             69656 non-null  object \n",
            " 19  relations                 69656 non-null  object \n",
            " 20  employer                  69656 non-null  object \n",
            " 21  snippet                   69656 non-null  object \n",
            " 22  contacts                  35114 non-null  object \n",
            " 23  schedule                  69656 non-null  object \n",
            " 24  working_days              69656 non-null  object \n",
            " 25  working_time_intervals    69656 non-null  object \n",
            " 26  working_time_modes        69656 non-null  object \n",
            " 27  accept_temporary          69656 non-null  bool   \n",
            " 28  description               69656 non-null  object \n",
            " 29  experience                69656 non-null  object \n",
            " 30  key_skills                69656 non-null  object \n",
            " 31  specializations           69656 non-null  object \n",
            " 32  region                    69656 non-null  object \n",
            " 33  immediate_redirect_url    1 non-null      object \n",
            " 34  salary_from               34074 non-null  Int64  \n",
            " 35  salary_to                 0 non-null      Int64  \n",
            " 36  salary_currency           0 non-null      Int64  \n",
            " 37  salary_gross              0 non-null      Int64  \n",
            "dtypes: Int64(4), bool(5), float64(1), int64(2), object(26)\n",
            "memory usage: 18.1+ MB\n"
          ]
        }
      ]
    },
    {
      "cell_type": "code",
      "source": [
        "#Чтение входного файла с данными\n",
        "%%time\n",
        "new_reg_rol = pd.read_excel(r'region_roles_26_05_22.xlsx')\n",
        "#Пишем регулярные выражения\n",
        "#Шаблоны\n",
        "nrr1 = r'(?<=\\d),(?=\\d)' # ищем запятую между двумя цифрами\n",
        "nrr2 = r'(?<=,) ' # ищем пробел после запятой\n",
        "nrr3 = r'(?<=\\d)\\.(?=\\d)' # ищем точку между двумя цифрами\n",
        "#Пишем функции, которые применяют регулярные выражения\n",
        "def f(a):\n",
        "    try:\n",
        "        a = re.sub(r'{|}','', a) #Убираем символы \"{\",  \"|\" и \"}\"\n",
        "        a = re.sub(nrr1, '', a) #Убираем пробелы после запятых\n",
        "        a = re.sub(nrr2, '.', a) #Заменяем запятые в десятичных числах на точки (432,63 -> 432.63)\n",
        "        a = a.split(',') #Делим строчку на элементы между запятыми\n",
        "        return {key: value for (key, value) in [i.split('=') for i in a]} #формируем словарь, где 'столбец': 'его значение' \n",
        "    except:\n",
        "        return np.nan\n",
        "def f_2(a):\n",
        "    try:\n",
        "        a = re.sub(nrr3, ',', a) #Заменяем обратно запятую в десятичных числах на точку (чтобы потом Excel понимал)\n",
        "        return a\n",
        "    except:\n",
        "        return np.nan\n",
        "%%time\n",
        "new_reg_rol['dictionary'] = new_reg_rol['salary'].astype('str').apply(f)\n",
        "%%time\n",
        "#Словарь преобразуем в отдельные столбцы\n",
        "j_2 = new_reg_rol['dictionary'].apply(pd.Series)\n",
        "j_2 = j_2.applymap(f_2)\n",
        "#Заменяем 'NaN' на пустую ячейку и соединяем все в одну таблицу\n",
        "j_2.replace({'NaN': np.nan}, inplace=True)\n",
        "Output = new_reg_rol.join(j_2, lsuffix='_left', rsuffix='_right')\n",
        "#Запись результата в Excel\n",
        "writer = pd.ExcelWriter('dataset_region_roles_26_05_22.xlsx')\n",
        "Output.to_excel(writer, sheet_name = '1', index=False)\n",
        "writer.save()"
      ],
      "metadata": {
        "colab": {
          "base_uri": "https://localhost:8080/"
        },
        "id": "Wht_mdAAzgW-",
        "outputId": "3a2507e1-3448-4f04-aa90-ef044cd2f5cb"
      },
      "execution_count": null,
      "outputs": [
        {
          "output_type": "stream",
          "name": "stderr",
          "text": [
            "UsageError: Line magic function `%%time` not found.\n"
          ]
        }
      ]
    },
    {
      "cell_type": "code",
      "source": [
        "new_reg_rol.columns = ['From', 'to', 'Currency']\n",
        "#splited_items = [a.split('=') for a in new_reg_rol[0]]\n",
        "#new_reg_rol"
      ],
      "metadata": {
        "id": "KKl7ERiRm-Jy"
      },
      "execution_count": null,
      "outputs": []
    },
    {
      "cell_type": "code",
      "source": [
        "new_reg_rol = reg_rol['salary'].str.split(',').\\\n",
        "apply(lambda x: {item[0]: item[1] for item in [a.split('=') for a in x]}).\\\n",
        "apply(pd.Series)"
      ],
      "metadata": {
        "id": "JnxHUqbLjc8K"
      },
      "execution_count": null,
      "outputs": []
    },
    {
      "cell_type": "code",
      "source": [
        "reg_rol['salary_1'] = reg_rol['salary'].map(lambda x:x. split(',')[0])\n",
        "reg_rol['salary_2'] = reg_rol['salary'].map(lambda x:x. split(',')[1])\n",
        "reg_rol['salary_3'] = reg_rol['salary'].map(lambda x:x. split(',')[2])"
      ],
      "metadata": {
        "id": "QoEwZAeaWgm8"
      },
      "execution_count": null,
      "outputs": []
    },
    {
      "cell_type": "code",
      "source": [
        "reg_rol"
      ],
      "metadata": {
        "id": "erVsne9VXzKW"
      },
      "execution_count": null,
      "outputs": []
    },
    {
      "cell_type": "code",
      "source": [
        "reg_rol.info()"
      ],
      "metadata": {
        "colab": {
          "base_uri": "https://localhost:8080/"
        },
        "id": "1O7s-iYCmor3",
        "outputId": "66579bea-71f9-4f72-f15b-3641c24abbdd"
      },
      "execution_count": null,
      "outputs": [
        {
          "output_type": "stream",
          "name": "stdout",
          "text": [
            "<class 'pandas.core.frame.DataFrame'>\n",
            "RangeIndex: 69656 entries, 0 to 69655\n",
            "Data columns (total 34 columns):\n",
            " #   Column                    Non-Null Count  Dtype  \n",
            "---  ------                    --------------  -----  \n",
            " 0   Unnamed: 0                69656 non-null  int64  \n",
            " 1   id                        69656 non-null  int64  \n",
            " 2   premium                   69656 non-null  bool   \n",
            " 3   name                      69656 non-null  object \n",
            " 4   department                5263 non-null   object \n",
            " 5   has_test                  69656 non-null  bool   \n",
            " 6   response_letter_required  69656 non-null  bool   \n",
            " 7   area                      69656 non-null  object \n",
            " 8   salary                    37590 non-null  object \n",
            " 9   type                      69656 non-null  object \n",
            " 10  address                   40318 non-null  object \n",
            " 11  response_url              1 non-null      object \n",
            " 12  sort_point_distance       0 non-null      float64\n",
            " 13  published_at              69656 non-null  object \n",
            " 14  created_at                69656 non-null  object \n",
            " 15  archived                  69656 non-null  bool   \n",
            " 16  insider_interview         522 non-null    object \n",
            " 17  url                       69656 non-null  object \n",
            " 18  alternate_url             69656 non-null  object \n",
            " 19  relations                 69656 non-null  object \n",
            " 20  employer                  69656 non-null  object \n",
            " 21  snippet                   69656 non-null  object \n",
            " 22  contacts                  35114 non-null  object \n",
            " 23  schedule                  69656 non-null  object \n",
            " 24  working_days              69656 non-null  object \n",
            " 25  working_time_intervals    69656 non-null  object \n",
            " 26  working_time_modes        69656 non-null  object \n",
            " 27  accept_temporary          69656 non-null  bool   \n",
            " 28  description               69656 non-null  object \n",
            " 29  experience                69656 non-null  object \n",
            " 30  key_skills                69656 non-null  object \n",
            " 31  specializations           69656 non-null  object \n",
            " 32  region                    69656 non-null  object \n",
            " 33  immediate_redirect_url    1 non-null      object \n",
            "dtypes: bool(5), float64(1), int64(2), object(26)\n",
            "memory usage: 15.7+ MB\n"
          ]
        }
      ]
    },
    {
      "cell_type": "markdown",
      "source": [],
      "metadata": {
        "id": "umWaLTq4ggi8"
      }
    },
    {
      "cell_type": "markdown",
      "source": [
        "В ходе изучения Датасет, удалось оценить его размер, который равен 15.7 MB. Количество строк в датасет - 69656. Количество колонок(столбцов) - 34. В результате чего, стало понятным, что:\n",
        "Количество булевых строк равно 5, Строк с плавающей запятой равно 1, строк с целым числом равно 2, строк с типом данных object равно 26. Столбцы, с именами id, premium, name, department, type, address и другие, имеют пустые или нулевые значения. В результате, из данных подлежащих анализу. имеются значения: Целые числа, значения отличные от нуля, а так же значения типа object, столбец salary."
      ],
      "metadata": {
        "id": "IUqfNB9_qZvV"
      }
    },
    {
      "cell_type": "code",
      "source": [
        "reg_rol = reg_rol.astype'salary': np.int})"
      ],
      "metadata": {
        "id": "T_qS-87BUqIl"
      },
      "execution_count": null,
      "outputs": []
    },
    {
      "cell_type": "code",
      "source": [
        "#Load the result roles\n",
        "from google.colab import files\n",
        "upload = files.upload()"
      ],
      "metadata": {
        "colab": {
          "base_uri": "https://localhost:8080/",
          "height": 90
        },
        "id": "Ut5WtodcN-V5",
        "outputId": "e16d674d-c83f-4ae2-b7ec-c0a289cdb109"
      },
      "execution_count": null,
      "outputs": [
        {
          "output_type": "display_data",
          "data": {
            "text/plain": [
              "<IPython.core.display.HTML object>"
            ],
            "text/html": [
              "\n",
              "     <input type=\"file\" id=\"files-12408dae-6ff8-4461-8d14-dd6159fe9b29\" name=\"files[]\" multiple disabled\n",
              "        style=\"border:none\" />\n",
              "     <output id=\"result-12408dae-6ff8-4461-8d14-dd6159fe9b29\">\n",
              "      Upload widget is only available when the cell has been executed in the\n",
              "      current browser session. Please rerun this cell to enable.\n",
              "      </output>\n",
              "      <script>// Copyright 2017 Google LLC\n",
              "//\n",
              "// Licensed under the Apache License, Version 2.0 (the \"License\");\n",
              "// you may not use this file except in compliance with the License.\n",
              "// You may obtain a copy of the License at\n",
              "//\n",
              "//      http://www.apache.org/licenses/LICENSE-2.0\n",
              "//\n",
              "// Unless required by applicable law or agreed to in writing, software\n",
              "// distributed under the License is distributed on an \"AS IS\" BASIS,\n",
              "// WITHOUT WARRANTIES OR CONDITIONS OF ANY KIND, either express or implied.\n",
              "// See the License for the specific language governing permissions and\n",
              "// limitations under the License.\n",
              "\n",
              "/**\n",
              " * @fileoverview Helpers for google.colab Python module.\n",
              " */\n",
              "(function(scope) {\n",
              "function span(text, styleAttributes = {}) {\n",
              "  const element = document.createElement('span');\n",
              "  element.textContent = text;\n",
              "  for (const key of Object.keys(styleAttributes)) {\n",
              "    element.style[key] = styleAttributes[key];\n",
              "  }\n",
              "  return element;\n",
              "}\n",
              "\n",
              "// Max number of bytes which will be uploaded at a time.\n",
              "const MAX_PAYLOAD_SIZE = 100 * 1024;\n",
              "\n",
              "function _uploadFiles(inputId, outputId) {\n",
              "  const steps = uploadFilesStep(inputId, outputId);\n",
              "  const outputElement = document.getElementById(outputId);\n",
              "  // Cache steps on the outputElement to make it available for the next call\n",
              "  // to uploadFilesContinue from Python.\n",
              "  outputElement.steps = steps;\n",
              "\n",
              "  return _uploadFilesContinue(outputId);\n",
              "}\n",
              "\n",
              "// This is roughly an async generator (not supported in the browser yet),\n",
              "// where there are multiple asynchronous steps and the Python side is going\n",
              "// to poll for completion of each step.\n",
              "// This uses a Promise to block the python side on completion of each step,\n",
              "// then passes the result of the previous step as the input to the next step.\n",
              "function _uploadFilesContinue(outputId) {\n",
              "  const outputElement = document.getElementById(outputId);\n",
              "  const steps = outputElement.steps;\n",
              "\n",
              "  const next = steps.next(outputElement.lastPromiseValue);\n",
              "  return Promise.resolve(next.value.promise).then((value) => {\n",
              "    // Cache the last promise value to make it available to the next\n",
              "    // step of the generator.\n",
              "    outputElement.lastPromiseValue = value;\n",
              "    return next.value.response;\n",
              "  });\n",
              "}\n",
              "\n",
              "/**\n",
              " * Generator function which is called between each async step of the upload\n",
              " * process.\n",
              " * @param {string} inputId Element ID of the input file picker element.\n",
              " * @param {string} outputId Element ID of the output display.\n",
              " * @return {!Iterable<!Object>} Iterable of next steps.\n",
              " */\n",
              "function* uploadFilesStep(inputId, outputId) {\n",
              "  const inputElement = document.getElementById(inputId);\n",
              "  inputElement.disabled = false;\n",
              "\n",
              "  const outputElement = document.getElementById(outputId);\n",
              "  outputElement.innerHTML = '';\n",
              "\n",
              "  const pickedPromise = new Promise((resolve) => {\n",
              "    inputElement.addEventListener('change', (e) => {\n",
              "      resolve(e.target.files);\n",
              "    });\n",
              "  });\n",
              "\n",
              "  const cancel = document.createElement('button');\n",
              "  inputElement.parentElement.appendChild(cancel);\n",
              "  cancel.textContent = 'Cancel upload';\n",
              "  const cancelPromise = new Promise((resolve) => {\n",
              "    cancel.onclick = () => {\n",
              "      resolve(null);\n",
              "    };\n",
              "  });\n",
              "\n",
              "  // Wait for the user to pick the files.\n",
              "  const files = yield {\n",
              "    promise: Promise.race([pickedPromise, cancelPromise]),\n",
              "    response: {\n",
              "      action: 'starting',\n",
              "    }\n",
              "  };\n",
              "\n",
              "  cancel.remove();\n",
              "\n",
              "  // Disable the input element since further picks are not allowed.\n",
              "  inputElement.disabled = true;\n",
              "\n",
              "  if (!files) {\n",
              "    return {\n",
              "      response: {\n",
              "        action: 'complete',\n",
              "      }\n",
              "    };\n",
              "  }\n",
              "\n",
              "  for (const file of files) {\n",
              "    const li = document.createElement('li');\n",
              "    li.append(span(file.name, {fontWeight: 'bold'}));\n",
              "    li.append(span(\n",
              "        `(${file.type || 'n/a'}) - ${file.size} bytes, ` +\n",
              "        `last modified: ${\n",
              "            file.lastModifiedDate ? file.lastModifiedDate.toLocaleDateString() :\n",
              "                                    'n/a'} - `));\n",
              "    const percent = span('0% done');\n",
              "    li.appendChild(percent);\n",
              "\n",
              "    outputElement.appendChild(li);\n",
              "\n",
              "    const fileDataPromise = new Promise((resolve) => {\n",
              "      const reader = new FileReader();\n",
              "      reader.onload = (e) => {\n",
              "        resolve(e.target.result);\n",
              "      };\n",
              "      reader.readAsArrayBuffer(file);\n",
              "    });\n",
              "    // Wait for the data to be ready.\n",
              "    let fileData = yield {\n",
              "      promise: fileDataPromise,\n",
              "      response: {\n",
              "        action: 'continue',\n",
              "      }\n",
              "    };\n",
              "\n",
              "    // Use a chunked sending to avoid message size limits. See b/62115660.\n",
              "    let position = 0;\n",
              "    do {\n",
              "      const length = Math.min(fileData.byteLength - position, MAX_PAYLOAD_SIZE);\n",
              "      const chunk = new Uint8Array(fileData, position, length);\n",
              "      position += length;\n",
              "\n",
              "      const base64 = btoa(String.fromCharCode.apply(null, chunk));\n",
              "      yield {\n",
              "        response: {\n",
              "          action: 'append',\n",
              "          file: file.name,\n",
              "          data: base64,\n",
              "        },\n",
              "      };\n",
              "\n",
              "      let percentDone = fileData.byteLength === 0 ?\n",
              "          100 :\n",
              "          Math.round((position / fileData.byteLength) * 100);\n",
              "      percent.textContent = `${percentDone}% done`;\n",
              "\n",
              "    } while (position < fileData.byteLength);\n",
              "  }\n",
              "\n",
              "  // All done.\n",
              "  yield {\n",
              "    response: {\n",
              "      action: 'complete',\n",
              "    }\n",
              "  };\n",
              "}\n",
              "\n",
              "scope.google = scope.google || {};\n",
              "scope.google.colab = scope.google.colab || {};\n",
              "scope.google.colab._files = {\n",
              "  _uploadFiles,\n",
              "  _uploadFilesContinue,\n",
              "};\n",
              "})(self);\n",
              "</script> "
            ]
          },
          "metadata": {}
        },
        {
          "output_type": "stream",
          "name": "stdout",
          "text": [
            "Saving result roles (16.06.2022).xlsx to result roles (16.06.2022).xlsx\n"
          ]
        }
      ]
    },
    {
      "cell_type": "code",
      "source": [
        "res_rol = pd.read_excel('result_roles_16_06_2022.xlsx')"
      ],
      "metadata": {
        "id": "qeoqrwY5c1m1"
      },
      "execution_count": null,
      "outputs": []
    },
    {
      "cell_type": "code",
      "source": [
        "res_rol.info()"
      ],
      "metadata": {
        "colab": {
          "base_uri": "https://localhost:8080/"
        },
        "id": "OrDUJwTsyJgf",
        "outputId": "79bf8dd4-fde0-405f-c684-fff1f9ada55c"
      },
      "execution_count": null,
      "outputs": [
        {
          "output_type": "stream",
          "name": "stdout",
          "text": [
            "<class 'pandas.core.frame.DataFrame'>\n",
            "RangeIndex: 76382 entries, 0 to 76381\n",
            "Data columns (total 51 columns):\n",
            " #   Column                    Non-Null Count  Dtype \n",
            "---  ------                    --------------  ----- \n",
            " 0   Unnamed: 0                76382 non-null  int64 \n",
            " 1   id                        76382 non-null  int64 \n",
            " 2   premium                   76382 non-null  bool  \n",
            " 3   name                      76382 non-null  object\n",
            " 4   department                4902 non-null   object\n",
            " 5   has_test                  76380 non-null  object\n",
            " 6   response_letter_required  76382 non-null  object\n",
            " 7   area                      76381 non-null  object\n",
            " 8   salary                    40874 non-null  object\n",
            " 9   type                      76379 non-null  object\n",
            " 10  published_at              76380 non-null  object\n",
            " 11  created_at                76381 non-null  object\n",
            " 12  archived                  76380 non-null  object\n",
            " 13  insider_interview         570 non-null    object\n",
            " 14  url                       76380 non-null  object\n",
            " 15  alternate_url             76382 non-null  object\n",
            " 16  relations                 76381 non-null  object\n",
            " 17  employer                  76382 non-null  object\n",
            " 18  snippet                   76381 non-null  object\n",
            " 19  schedule                  76381 non-null  object\n",
            " 20  working_days              76381 non-null  object\n",
            " 21  working_time_intervals    76382 non-null  object\n",
            " 22  working_time_modes        76382 non-null  object\n",
            " 23  accept_temporary          76381 non-null  object\n",
            " 24  description               76382 non-null  object\n",
            " 25  experience                76382 non-null  object\n",
            " 26  key_skills                76381 non-null  object\n",
            " 27  specializations           76382 non-null  object\n",
            " 28  region                    76382 non-null  object\n",
            " 29  Unnamed: 29               354 non-null    object\n",
            " 30  Unnamed: 30               335 non-null    object\n",
            " 31  Unnamed: 31               261 non-null    object\n",
            " 32  Unnamed: 32               235 non-null    object\n",
            " 33  Unnamed: 33               216 non-null    object\n",
            " 34  Unnamed: 34               177 non-null    object\n",
            " 35  Unnamed: 35               157 non-null    object\n",
            " 36  Unnamed: 36               134 non-null    object\n",
            " 37  Unnamed: 37               113 non-null    object\n",
            " 38  Unnamed: 38               83 non-null     object\n",
            " 39  Unnamed: 39               63 non-null     object\n",
            " 40  Unnamed: 40               52 non-null     object\n",
            " 41  Unnamed: 41               37 non-null     object\n",
            " 42  Unnamed: 42               28 non-null     object\n",
            " 43  Unnamed: 43               21 non-null     object\n",
            " 44  Unnamed: 44               15 non-null     object\n",
            " 45  Unnamed: 45               9 non-null      object\n",
            " 46  Unnamed: 46               6 non-null      object\n",
            " 47  Unnamed: 47               2 non-null      object\n",
            " 48  Unnamed: 48               1 non-null      object\n",
            " 49  Unnamed: 49               1 non-null      object\n",
            " 50  Unnamed: 50               1 non-null      object\n",
            "dtypes: bool(1), int64(2), object(48)\n",
            "memory usage: 29.2+ MB\n"
          ]
        }
      ]
    }
  ]
}